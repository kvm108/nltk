{
 "cells": [
  {
   "cell_type": "code",
   "execution_count": 1,
   "metadata": {},
   "outputs": [],
   "source": [
    "from nltk.corpus import brown\n",
    "from nltk import FreqDist\n",
    "from nltk import DecisionTreeClassifier\n",
    "from nltk import classify"
   ]
  },
  {
   "cell_type": "code",
   "execution_count": 2,
   "metadata": {},
   "outputs": [
    {
     "data": {
      "text/plain": [
       "FreqDist()"
      ]
     },
     "execution_count": 2,
     "metadata": {},
     "output_type": "execute_result"
    }
   ],
   "source": [
    "suff_fdist = FreqDist()\n",
    "suff_fdist"
   ]
  },
  {
   "cell_type": "markdown",
   "metadata": {},
   "source": [
    "<h3> 1. Feature - Find freq of suffix -1, -2, -3  </h3>"
   ]
  },
  {
   "cell_type": "code",
   "execution_count": 3,
   "metadata": {},
   "outputs": [],
   "source": [
    "for word in brown.words():\n",
    "    word = word.lower()\n",
    "#     print(word, word[-3:])\n",
    "    suff_fdist[word[-1:]] +=1\n",
    "    suff_fdist[word[-2:]] +=1\n",
    "    suff_fdist[word[-3:]] +=1"
   ]
  },
  {
   "cell_type": "code",
   "execution_count": 4,
   "metadata": {},
   "outputs": [
    {
     "data": {
      "text/plain": [
       "[('e', 202946),\n",
       " (',', 175002),\n",
       " ('.', 152999),\n",
       " ('s', 128722),\n",
       " ('d', 105687),\n",
       " ('t', 94459),\n",
       " ('he', 92084),\n",
       " ('n', 87889),\n",
       " ('a', 74912),\n",
       " ('of', 72978)]"
      ]
     },
     "execution_count": 4,
     "metadata": {},
     "output_type": "execute_result"
    }
   ],
   "source": [
    "suff_fdist.most_common(10)"
   ]
  },
  {
   "cell_type": "markdown",
   "metadata": {},
   "source": [
    "<h3> 2. Find common suffix - top 100 </h3>"
   ]
  },
  {
   "cell_type": "code",
   "execution_count": 5,
   "metadata": {
    "scrolled": true
   },
   "outputs": [
    {
     "data": {
      "text/plain": [
       "['e',\n",
       " ',',\n",
       " '.',\n",
       " 's',\n",
       " 'd',\n",
       " 't',\n",
       " 'he',\n",
       " 'n',\n",
       " 'a',\n",
       " 'of',\n",
       " 'the',\n",
       " 'y',\n",
       " 'r',\n",
       " 'to',\n",
       " 'in',\n",
       " 'f',\n",
       " 'o',\n",
       " 'ed',\n",
       " 'nd',\n",
       " 'is',\n",
       " 'on',\n",
       " 'l',\n",
       " 'g',\n",
       " 'and',\n",
       " 'ng',\n",
       " 'er',\n",
       " 'as',\n",
       " 'ing',\n",
       " 'h',\n",
       " 'at',\n",
       " 'es',\n",
       " 'or',\n",
       " 're',\n",
       " 'it',\n",
       " '``',\n",
       " 'an',\n",
       " \"''\",\n",
       " 'm',\n",
       " ';',\n",
       " 'i',\n",
       " 'ly',\n",
       " 'ion',\n",
       " 'en',\n",
       " 'al',\n",
       " '?',\n",
       " 'nt',\n",
       " 'be',\n",
       " 'hat',\n",
       " 'st',\n",
       " 'his',\n",
       " 'th',\n",
       " 'll',\n",
       " 'le',\n",
       " 'ce',\n",
       " 'by',\n",
       " 'ts',\n",
       " 'me',\n",
       " 've',\n",
       " \"'\",\n",
       " 'se',\n",
       " 'ut',\n",
       " 'was',\n",
       " 'for',\n",
       " 'ent',\n",
       " 'ch',\n",
       " 'k',\n",
       " 'w',\n",
       " 'ld',\n",
       " '`',\n",
       " 'rs',\n",
       " 'ted',\n",
       " 'ere',\n",
       " 'her',\n",
       " 'ne',\n",
       " 'ns',\n",
       " 'ith',\n",
       " 'ad',\n",
       " 'ry',\n",
       " ')',\n",
       " '(',\n",
       " 'te',\n",
       " '--',\n",
       " 'ay',\n",
       " 'ty',\n",
       " 'ot',\n",
       " 'p',\n",
       " 'nce',\n",
       " \"'s\",\n",
       " 'ter',\n",
       " 'om',\n",
       " 'ss',\n",
       " ':',\n",
       " 'we',\n",
       " 'are',\n",
       " 'c',\n",
       " 'ers',\n",
       " 'uld',\n",
       " 'had',\n",
       " 'so',\n",
       " 'ey']"
      ]
     },
     "execution_count": 5,
     "metadata": {},
     "output_type": "execute_result"
    }
   ],
   "source": [
    "common_suffix = [ suffix for(suffix, count) in suff_fdist.most_common(100)]\n",
    "common_suffix"
   ]
  },
  {
   "cell_type": "markdown",
   "metadata": {},
   "source": [
    "<h3>3. Feature extraction </h3>"
   ]
  },
  {
   "cell_type": "code",
   "execution_count": 6,
   "metadata": {},
   "outputs": [],
   "source": [
    "def pos_features(word):\n",
    "    word = word.lower()\n",
    "    features = {}\n",
    "    for suffix in common_suffix:\n",
    "        features['endswith({})'.format(suffix)] = word.endswith(suffix)\n",
    "        \n",
    "    return features"
   ]
  },
  {
   "cell_type": "code",
   "execution_count": 7,
   "metadata": {},
   "outputs": [
    {
     "data": {
      "text/plain": [
       "{\"endswith('')\": False,\n",
       " \"endswith(')\": False,\n",
       " \"endswith('s)\": False,\n",
       " 'endswith(()': False,\n",
       " 'endswith())': False,\n",
       " 'endswith(,)': False,\n",
       " 'endswith(--)': False,\n",
       " 'endswith(.)': False,\n",
       " 'endswith(:)': False,\n",
       " 'endswith(;)': False,\n",
       " 'endswith(?)': False,\n",
       " 'endswith(`)': False,\n",
       " 'endswith(``)': False,\n",
       " 'endswith(a)': False,\n",
       " 'endswith(ad)': False,\n",
       " 'endswith(al)': False,\n",
       " 'endswith(an)': False,\n",
       " 'endswith(and)': False,\n",
       " 'endswith(are)': False,\n",
       " 'endswith(as)': False,\n",
       " 'endswith(at)': False,\n",
       " 'endswith(ay)': False,\n",
       " 'endswith(be)': False,\n",
       " 'endswith(by)': False,\n",
       " 'endswith(c)': False,\n",
       " 'endswith(ce)': False,\n",
       " 'endswith(ch)': False,\n",
       " 'endswith(d)': False,\n",
       " 'endswith(e)': False,\n",
       " 'endswith(ed)': False,\n",
       " 'endswith(en)': False,\n",
       " 'endswith(ent)': False,\n",
       " 'endswith(er)': False,\n",
       " 'endswith(ere)': False,\n",
       " 'endswith(ers)': False,\n",
       " 'endswith(es)': False,\n",
       " 'endswith(ey)': False,\n",
       " 'endswith(f)': False,\n",
       " 'endswith(for)': False,\n",
       " 'endswith(g)': True,\n",
       " 'endswith(h)': False,\n",
       " 'endswith(had)': False,\n",
       " 'endswith(hat)': False,\n",
       " 'endswith(he)': False,\n",
       " 'endswith(her)': False,\n",
       " 'endswith(his)': False,\n",
       " 'endswith(i)': False,\n",
       " 'endswith(in)': False,\n",
       " 'endswith(ing)': False,\n",
       " 'endswith(ion)': False,\n",
       " 'endswith(is)': False,\n",
       " 'endswith(it)': False,\n",
       " 'endswith(ith)': False,\n",
       " 'endswith(k)': False,\n",
       " 'endswith(l)': False,\n",
       " 'endswith(ld)': False,\n",
       " 'endswith(le)': False,\n",
       " 'endswith(ll)': False,\n",
       " 'endswith(ly)': False,\n",
       " 'endswith(m)': False,\n",
       " 'endswith(me)': False,\n",
       " 'endswith(n)': False,\n",
       " 'endswith(nce)': False,\n",
       " 'endswith(nd)': False,\n",
       " 'endswith(ne)': False,\n",
       " 'endswith(ng)': True,\n",
       " 'endswith(ns)': False,\n",
       " 'endswith(nt)': False,\n",
       " 'endswith(o)': False,\n",
       " 'endswith(of)': False,\n",
       " 'endswith(om)': False,\n",
       " 'endswith(on)': False,\n",
       " 'endswith(or)': False,\n",
       " 'endswith(ot)': False,\n",
       " 'endswith(p)': False,\n",
       " 'endswith(r)': False,\n",
       " 'endswith(re)': False,\n",
       " 'endswith(rs)': False,\n",
       " 'endswith(ry)': False,\n",
       " 'endswith(s)': False,\n",
       " 'endswith(se)': False,\n",
       " 'endswith(so)': False,\n",
       " 'endswith(ss)': False,\n",
       " 'endswith(st)': False,\n",
       " 'endswith(t)': False,\n",
       " 'endswith(te)': False,\n",
       " 'endswith(ted)': False,\n",
       " 'endswith(ter)': False,\n",
       " 'endswith(th)': False,\n",
       " 'endswith(the)': False,\n",
       " 'endswith(to)': False,\n",
       " 'endswith(ts)': False,\n",
       " 'endswith(ty)': False,\n",
       " 'endswith(uld)': False,\n",
       " 'endswith(ut)': False,\n",
       " 'endswith(ve)': False,\n",
       " 'endswith(w)': False,\n",
       " 'endswith(was)': False,\n",
       " 'endswith(we)': False,\n",
       " 'endswith(y)': False}"
      ]
     },
     "execution_count": 7,
     "metadata": {},
     "output_type": "execute_result"
    }
   ],
   "source": [
    "pos_features('casng')"
   ]
  },
  {
   "cell_type": "markdown",
   "metadata": {},
   "source": [
    "\"Feature extraction functions behave like tinted glasses, highlighting some of the properties (colors) in our data and making it impossible to see other properties. The classifier will rely exclusively on these highlighted properties when determining how to label inputs. In this case, the classifier will make its decisions based only on information about which of the common suffixes (if any) a given word has.\""
   ]
  },
  {
   "cell_type": "markdown",
   "metadata": {},
   "source": [
    "<h4> Applying feature extraction </h4>"
   ]
  },
  {
   "cell_type": "code",
   "execution_count": 8,
   "metadata": {},
   "outputs": [],
   "source": [
    "tagged_words = brown.tagged_words(categories='news')\n",
    "feat_sets = [ (pos_features(news), cat) for (news, cat) in tagged_words]"
   ]
  },
  {
   "cell_type": "code",
   "execution_count": 9,
   "metadata": {
    "scrolled": true
   },
   "outputs": [
    {
     "data": {
      "text/plain": [
       "[('The', 'AT'),\n",
       " ('Fulton', 'NP-TL'),\n",
       " ('County', 'NN-TL'),\n",
       " ('Grand', 'JJ-TL'),\n",
       " ('Jury', 'NN-TL'),\n",
       " ('said', 'VBD'),\n",
       " ('Friday', 'NR'),\n",
       " ('an', 'AT'),\n",
       " ('investigation', 'NN'),\n",
       " ('of', 'IN')]"
      ]
     },
     "execution_count": 9,
     "metadata": {},
     "output_type": "execute_result"
    }
   ],
   "source": [
    "tagged_words[:10]"
   ]
  },
  {
   "cell_type": "code",
   "execution_count": 10,
   "metadata": {},
   "outputs": [],
   "source": [
    "size = int(len(feat_sets) * 0.1)\n",
    "train_set, test_set = feat_sets[size:], feat_sets[:size]"
   ]
  },
  {
   "cell_type": "code",
   "execution_count": 14,
   "metadata": {},
   "outputs": [
    {
     "ename": "KeyboardInterrupt",
     "evalue": "",
     "output_type": "error",
     "traceback": [
      "\u001b[1;31m---------------------------------------------------------------------------\u001b[0m",
      "\u001b[1;31mKeyboardInterrupt\u001b[0m                         Traceback (most recent call last)",
      "\u001b[1;32m<ipython-input-14-c11c7b9758e2>\u001b[0m in \u001b[0;36m<module>\u001b[1;34m()\u001b[0m\n\u001b[1;32m----> 1\u001b[1;33m \u001b[0mclf\u001b[0m \u001b[1;33m=\u001b[0m \u001b[0mDecisionTreeClassifier\u001b[0m\u001b[1;33m.\u001b[0m\u001b[0mtrain\u001b[0m\u001b[1;33m(\u001b[0m\u001b[0mtrain_set\u001b[0m\u001b[1;33m)\u001b[0m\u001b[1;33m\u001b[0m\u001b[0m\n\u001b[0m\u001b[0;32m      2\u001b[0m \u001b[0mprint\u001b[0m\u001b[1;33m(\u001b[0m\u001b[0mclf\u001b[0m\u001b[1;33m)\u001b[0m\u001b[1;33m\u001b[0m\u001b[0m\n",
      "\u001b[1;32mc:\\users\\maitreyi_kv\\appdata\\local\\programs\\python\\python36\\lib\\site-packages\\nltk\\classify\\decisiontree.py\u001b[0m in \u001b[0;36mtrain\u001b[1;34m(labeled_featuresets, entropy_cutoff, depth_cutoff, support_cutoff, binary, feature_values, verbose)\u001b[0m\n\u001b[0;32m    152\u001b[0m         \u001b[1;32mif\u001b[0m \u001b[1;32mnot\u001b[0m \u001b[0mbinary\u001b[0m\u001b[1;33m:\u001b[0m\u001b[1;33m\u001b[0m\u001b[0m\n\u001b[0;32m    153\u001b[0m             tree = DecisionTreeClassifier.best_stump(\n\u001b[1;32m--> 154\u001b[1;33m                 feature_names, labeled_featuresets, verbose)\n\u001b[0m\u001b[0;32m    155\u001b[0m         \u001b[1;32melse\u001b[0m\u001b[1;33m:\u001b[0m\u001b[1;33m\u001b[0m\u001b[0m\n\u001b[0;32m    156\u001b[0m             tree = DecisionTreeClassifier.best_binary_stump(\n",
      "\u001b[1;32mc:\\users\\maitreyi_kv\\appdata\\local\\programs\\python\\python36\\lib\\site-packages\\nltk\\classify\\decisiontree.py\u001b[0m in \u001b[0;36mbest_stump\u001b[1;34m(feature_names, labeled_featuresets, verbose)\u001b[0m\n\u001b[0;32m    219\u001b[0m         \u001b[0mbest_error\u001b[0m \u001b[1;33m=\u001b[0m \u001b[0mbest_stump\u001b[0m\u001b[1;33m.\u001b[0m\u001b[0merror\u001b[0m\u001b[1;33m(\u001b[0m\u001b[0mlabeled_featuresets\u001b[0m\u001b[1;33m)\u001b[0m\u001b[1;33m\u001b[0m\u001b[0m\n\u001b[0;32m    220\u001b[0m         \u001b[1;32mfor\u001b[0m \u001b[0mfname\u001b[0m \u001b[1;32min\u001b[0m \u001b[0mfeature_names\u001b[0m\u001b[1;33m:\u001b[0m\u001b[1;33m\u001b[0m\u001b[0m\n\u001b[1;32m--> 221\u001b[1;33m             \u001b[0mstump\u001b[0m \u001b[1;33m=\u001b[0m \u001b[0mDecisionTreeClassifier\u001b[0m\u001b[1;33m.\u001b[0m\u001b[0mstump\u001b[0m\u001b[1;33m(\u001b[0m\u001b[0mfname\u001b[0m\u001b[1;33m,\u001b[0m \u001b[0mlabeled_featuresets\u001b[0m\u001b[1;33m)\u001b[0m\u001b[1;33m\u001b[0m\u001b[0m\n\u001b[0m\u001b[0;32m    222\u001b[0m             \u001b[0mstump_error\u001b[0m \u001b[1;33m=\u001b[0m \u001b[0mstump\u001b[0m\u001b[1;33m.\u001b[0m\u001b[0merror\u001b[0m\u001b[1;33m(\u001b[0m\u001b[0mlabeled_featuresets\u001b[0m\u001b[1;33m)\u001b[0m\u001b[1;33m\u001b[0m\u001b[0m\n\u001b[0;32m    223\u001b[0m             \u001b[1;32mif\u001b[0m \u001b[0mstump_error\u001b[0m \u001b[1;33m<\u001b[0m \u001b[0mbest_error\u001b[0m\u001b[1;33m:\u001b[0m\u001b[1;33m\u001b[0m\u001b[0m\n",
      "\u001b[1;32mc:\\users\\maitreyi_kv\\appdata\\local\\programs\\python\\python36\\lib\\site-packages\\nltk\\classify\\decisiontree.py\u001b[0m in \u001b[0;36mstump\u001b[1;34m(feature_name, labeled_featuresets)\u001b[0m\n\u001b[0;32m    173\u001b[0m     \u001b[1;32mdef\u001b[0m \u001b[0mstump\u001b[0m\u001b[1;33m(\u001b[0m\u001b[0mfeature_name\u001b[0m\u001b[1;33m,\u001b[0m \u001b[0mlabeled_featuresets\u001b[0m\u001b[1;33m)\u001b[0m\u001b[1;33m:\u001b[0m\u001b[1;33m\u001b[0m\u001b[0m\n\u001b[0;32m    174\u001b[0m         label = FreqDist(label for (featureset, label)\n\u001b[1;32m--> 175\u001b[1;33m                          in labeled_featuresets).max()\n\u001b[0m\u001b[0;32m    176\u001b[0m \u001b[1;33m\u001b[0m\u001b[0m\n\u001b[0;32m    177\u001b[0m         \u001b[1;31m# Find the best label for each value.\u001b[0m\u001b[1;33m\u001b[0m\u001b[1;33m\u001b[0m\u001b[0m\n",
      "\u001b[1;32mc:\\users\\maitreyi_kv\\appdata\\local\\programs\\python\\python36\\lib\\site-packages\\nltk\\probability.py\u001b[0m in \u001b[0;36m__init__\u001b[1;34m(self, samples)\u001b[0m\n\u001b[0;32m    106\u001b[0m         \u001b[1;33m:\u001b[0m\u001b[0mtype\u001b[0m \u001b[0msamples\u001b[0m\u001b[1;33m:\u001b[0m \u001b[0mSequence\u001b[0m\u001b[1;33m\u001b[0m\u001b[0m\n\u001b[0;32m    107\u001b[0m         \"\"\"\n\u001b[1;32m--> 108\u001b[1;33m         \u001b[0mCounter\u001b[0m\u001b[1;33m.\u001b[0m\u001b[0m__init__\u001b[0m\u001b[1;33m(\u001b[0m\u001b[0mself\u001b[0m\u001b[1;33m,\u001b[0m \u001b[0msamples\u001b[0m\u001b[1;33m)\u001b[0m\u001b[1;33m\u001b[0m\u001b[0m\n\u001b[0m\u001b[0;32m    109\u001b[0m \u001b[1;33m\u001b[0m\u001b[0m\n\u001b[0;32m    110\u001b[0m         \u001b[1;31m# Cached number of samples in this FreqDist\u001b[0m\u001b[1;33m\u001b[0m\u001b[1;33m\u001b[0m\u001b[0m\n",
      "\u001b[1;32mc:\\users\\maitreyi_kv\\appdata\\local\\programs\\python\\python36\\lib\\collections\\__init__.py\u001b[0m in \u001b[0;36m__init__\u001b[1;34m(*args, **kwds)\u001b[0m\n\u001b[0;32m    533\u001b[0m             \u001b[1;32mraise\u001b[0m \u001b[0mTypeError\u001b[0m\u001b[1;33m(\u001b[0m\u001b[1;34m'expected at most 1 arguments, got %d'\u001b[0m \u001b[1;33m%\u001b[0m \u001b[0mlen\u001b[0m\u001b[1;33m(\u001b[0m\u001b[0margs\u001b[0m\u001b[1;33m)\u001b[0m\u001b[1;33m)\u001b[0m\u001b[1;33m\u001b[0m\u001b[0m\n\u001b[0;32m    534\u001b[0m         \u001b[0msuper\u001b[0m\u001b[1;33m(\u001b[0m\u001b[0mCounter\u001b[0m\u001b[1;33m,\u001b[0m \u001b[0mself\u001b[0m\u001b[1;33m)\u001b[0m\u001b[1;33m.\u001b[0m\u001b[0m__init__\u001b[0m\u001b[1;33m(\u001b[0m\u001b[1;33m)\u001b[0m\u001b[1;33m\u001b[0m\u001b[0m\n\u001b[1;32m--> 535\u001b[1;33m         \u001b[0mself\u001b[0m\u001b[1;33m.\u001b[0m\u001b[0mupdate\u001b[0m\u001b[1;33m(\u001b[0m\u001b[1;33m*\u001b[0m\u001b[0margs\u001b[0m\u001b[1;33m,\u001b[0m \u001b[1;33m**\u001b[0m\u001b[0mkwds\u001b[0m\u001b[1;33m)\u001b[0m\u001b[1;33m\u001b[0m\u001b[0m\n\u001b[0m\u001b[0;32m    536\u001b[0m \u001b[1;33m\u001b[0m\u001b[0m\n\u001b[0;32m    537\u001b[0m     \u001b[1;32mdef\u001b[0m \u001b[0m__missing__\u001b[0m\u001b[1;33m(\u001b[0m\u001b[0mself\u001b[0m\u001b[1;33m,\u001b[0m \u001b[0mkey\u001b[0m\u001b[1;33m)\u001b[0m\u001b[1;33m:\u001b[0m\u001b[1;33m\u001b[0m\u001b[0m\n",
      "\u001b[1;32mc:\\users\\maitreyi_kv\\appdata\\local\\programs\\python\\python36\\lib\\site-packages\\nltk\\probability.py\u001b[0m in \u001b[0;36mupdate\u001b[1;34m(self, *args, **kwargs)\u001b[0m\n\u001b[0;32m    144\u001b[0m         \"\"\"\n\u001b[0;32m    145\u001b[0m         \u001b[0mself\u001b[0m\u001b[1;33m.\u001b[0m\u001b[0m_N\u001b[0m \u001b[1;33m=\u001b[0m \u001b[1;32mNone\u001b[0m\u001b[1;33m\u001b[0m\u001b[0m\n\u001b[1;32m--> 146\u001b[1;33m         \u001b[0msuper\u001b[0m\u001b[1;33m(\u001b[0m\u001b[0mFreqDist\u001b[0m\u001b[1;33m,\u001b[0m \u001b[0mself\u001b[0m\u001b[1;33m)\u001b[0m\u001b[1;33m.\u001b[0m\u001b[0mupdate\u001b[0m\u001b[1;33m(\u001b[0m\u001b[1;33m*\u001b[0m\u001b[0margs\u001b[0m\u001b[1;33m,\u001b[0m \u001b[1;33m**\u001b[0m\u001b[0mkwargs\u001b[0m\u001b[1;33m)\u001b[0m\u001b[1;33m\u001b[0m\u001b[0m\n\u001b[0m\u001b[0;32m    147\u001b[0m \u001b[1;33m\u001b[0m\u001b[0m\n\u001b[0;32m    148\u001b[0m     \u001b[1;32mdef\u001b[0m \u001b[0msetdefault\u001b[0m\u001b[1;33m(\u001b[0m\u001b[0mself\u001b[0m\u001b[1;33m,\u001b[0m \u001b[0mkey\u001b[0m\u001b[1;33m,\u001b[0m \u001b[0mval\u001b[0m\u001b[1;33m)\u001b[0m\u001b[1;33m:\u001b[0m\u001b[1;33m\u001b[0m\u001b[0m\n",
      "\u001b[1;32mc:\\users\\maitreyi_kv\\appdata\\local\\programs\\python\\python36\\lib\\collections\\__init__.py\u001b[0m in \u001b[0;36mupdate\u001b[1;34m(*args, **kwds)\u001b[0m\n\u001b[0;32m    620\u001b[0m                     \u001b[0msuper\u001b[0m\u001b[1;33m(\u001b[0m\u001b[0mCounter\u001b[0m\u001b[1;33m,\u001b[0m \u001b[0mself\u001b[0m\u001b[1;33m)\u001b[0m\u001b[1;33m.\u001b[0m\u001b[0mupdate\u001b[0m\u001b[1;33m(\u001b[0m\u001b[0miterable\u001b[0m\u001b[1;33m)\u001b[0m \u001b[1;31m# fast path when counter is empty\u001b[0m\u001b[1;33m\u001b[0m\u001b[0m\n\u001b[0;32m    621\u001b[0m             \u001b[1;32melse\u001b[0m\u001b[1;33m:\u001b[0m\u001b[1;33m\u001b[0m\u001b[0m\n\u001b[1;32m--> 622\u001b[1;33m                 \u001b[0m_count_elements\u001b[0m\u001b[1;33m(\u001b[0m\u001b[0mself\u001b[0m\u001b[1;33m,\u001b[0m \u001b[0miterable\u001b[0m\u001b[1;33m)\u001b[0m\u001b[1;33m\u001b[0m\u001b[0m\n\u001b[0m\u001b[0;32m    623\u001b[0m         \u001b[1;32mif\u001b[0m \u001b[0mkwds\u001b[0m\u001b[1;33m:\u001b[0m\u001b[1;33m\u001b[0m\u001b[0m\n\u001b[0;32m    624\u001b[0m             \u001b[0mself\u001b[0m\u001b[1;33m.\u001b[0m\u001b[0mupdate\u001b[0m\u001b[1;33m(\u001b[0m\u001b[0mkwds\u001b[0m\u001b[1;33m)\u001b[0m\u001b[1;33m\u001b[0m\u001b[0m\n",
      "\u001b[1;32mc:\\users\\maitreyi_kv\\appdata\\local\\programs\\python\\python36\\lib\\site-packages\\nltk\\probability.py\u001b[0m in \u001b[0;36m__setitem__\u001b[1;34m(self, key, val)\u001b[0m\n\u001b[0;32m    125\u001b[0m         \u001b[1;32mreturn\u001b[0m \u001b[0mself\u001b[0m\u001b[1;33m.\u001b[0m\u001b[0m_N\u001b[0m\u001b[1;33m\u001b[0m\u001b[0m\n\u001b[0;32m    126\u001b[0m \u001b[1;33m\u001b[0m\u001b[0m\n\u001b[1;32m--> 127\u001b[1;33m     \u001b[1;32mdef\u001b[0m \u001b[0m__setitem__\u001b[0m\u001b[1;33m(\u001b[0m\u001b[0mself\u001b[0m\u001b[1;33m,\u001b[0m \u001b[0mkey\u001b[0m\u001b[1;33m,\u001b[0m \u001b[0mval\u001b[0m\u001b[1;33m)\u001b[0m\u001b[1;33m:\u001b[0m\u001b[1;33m\u001b[0m\u001b[0m\n\u001b[0m\u001b[0;32m    128\u001b[0m         \"\"\"\n\u001b[0;32m    129\u001b[0m         \u001b[0mOverride\u001b[0m\u001b[0;31m \u001b[0m\u001b[0;31m`\u001b[0m\u001b[0;31m`\u001b[0m\u001b[0mCounter\u001b[0m\u001b[1;33m.\u001b[0m\u001b[0m__setitem__\u001b[0m\u001b[1;33m(\u001b[0m\u001b[1;33m)\u001b[0m\u001b[0;31m`\u001b[0m\u001b[0;31m`\u001b[0m \u001b[0mto\u001b[0m \u001b[0minvalidate\u001b[0m \u001b[0mthe\u001b[0m \u001b[0mcached\u001b[0m \u001b[0mN\u001b[0m\u001b[1;33m\u001b[0m\u001b[0m\n",
      "\u001b[1;31mKeyboardInterrupt\u001b[0m: "
     ]
    }
   ],
   "source": [
    "clf = DecisionTreeClassifier.train(train_set)\n",
    "print(clf)"
   ]
  },
  {
   "cell_type": "code",
   "execution_count": null,
   "metadata": {},
   "outputs": [],
   "source": []
  }
 ],
 "metadata": {
  "kernelspec": {
   "display_name": "Python 3",
   "language": "python",
   "name": "python3"
  },
  "language_info": {
   "codemirror_mode": {
    "name": "ipython",
    "version": 3
   },
   "file_extension": ".py",
   "mimetype": "text/x-python",
   "name": "python",
   "nbconvert_exporter": "python",
   "pygments_lexer": "ipython3",
   "version": "3.6.4"
  }
 },
 "nbformat": 4,
 "nbformat_minor": 2
}
